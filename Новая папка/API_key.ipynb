{
 "cells": [
  {
   "cell_type": "code",
   "execution_count": 27,
   "metadata": {},
   "outputs": [],
   "source": [
    "import string\n",
    "import requests\n",
    "import json\n",
    "import random\n",
    "import time\n",
    "import pandas as pd\n",
    "#import api_key\n",
    "\n",
    "possibleSubjectAreas = ['AGRI','ARTS','BIOC','BUSI','CENG','CHEM','COMP','DECI','DENT',\n",
    "                'EART','ECON','ENER','ENGI','ENVI','HEAL','IMMU','MATE','MATH','MEDI','NEUR',\n",
    "                'NURS','PHAR','PHYS','PSYC','SOCI','VETE','MULT']\n",
    "\n",
    "years = range(2018,1990,-1)\n",
    "\n",
    "\n",
    "SCOPUS_PAGE_SIZE=25\n",
    "SCOPUS_MAX_RESULTS_PER_QUERY=5000\n",
    "\n",
    "api_token = 'your_api_token'\n",
    "my_api_key = '0b1939facfd1a6d769ef6f31a9b9d92f'#api_key.my_api_key #mine\n",
    "#default_api_key = build('books', 'v1', developerKey = '0b1939facfd1a6d769ef6f31a9b9d92f')\n",
    "#Scopus_Savich 0b1939facfd1a6d769ef6f31a9b9d92f\n",
    "\n",
    "#default_api_key = '0b1939facfd1a6d769ef6f31a9b9d92f' #default\n",
    "\n",
    "\n",
    "api_url_base = 'https://api.elsevier.com/content/search/scopus'\n",
    "headers = {'Accept' : 'application/json',}"
   ]
  },
  {
   "cell_type": "code",
   "execution_count": null,
   "metadata": {
    "collapsed": true
   },
   "outputs": [],
   "source": []
  }
 ],
 "metadata": {
  "kernelspec": {
   "display_name": "Python 3",
   "language": "python",
   "name": "python3"
  },
  "language_info": {
   "codemirror_mode": {
    "name": "ipython",
    "version": 3
   },
   "file_extension": ".py",
   "mimetype": "text/x-python",
   "name": "python",
   "nbconvert_exporter": "python",
   "pygments_lexer": "ipython3",
   "version": "3.6.2"
  }
 },
 "nbformat": 4,
 "nbformat_minor": 2
}
